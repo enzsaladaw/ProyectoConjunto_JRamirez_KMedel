{
 "cells": [
  {
   "cell_type": "markdown",
   "metadata": {
    "collapsed": true
   },
   "source": [
    "# Tarea 1\n",
    "##### 23/Enero\n",
    "\n",
    "** José Alfonso Ramírez Díaz **\n",
    "\n",
    "** if705519 **"
   ]
  },
  {
   "cell_type": "code",
   "execution_count": 3,
   "metadata": {
    "collapsed": false
   },
   "outputs": [
    {
     "name": "stdout",
     "output_type": "stream",
     "text": [
      "Hola amigos\n"
     ]
    }
   ],
   "source": [
    "#print(\"Hello, Python!\")\n",
    "print(\"Hola amigos\")"
   ]
  },
  {
   "cell_type": "code",
   "execution_count": 3,
   "metadata": {
    "collapsed": false
   },
   "outputs": [
    {
     "ename": "NameError",
     "evalue": "name 'hola' is not defined",
     "output_type": "error",
     "traceback": [
      "\u001b[0;31m---------------------------------------------------------------------------\u001b[0m",
      "\u001b[0;31mNameError\u001b[0m                                 Traceback (most recent call last)",
      "\u001b[0;32m<ipython-input-3-18a1d387faac>\u001b[0m in \u001b[0;36m<module>\u001b[0;34m()\u001b[0m\n\u001b[1;32m      2\u001b[0m \u001b[1;33m\u001b[0m\u001b[0m\n\u001b[1;32m      3\u001b[0m \u001b[0mHola\u001b[0m \u001b[1;33m=\u001b[0m \u001b[1;36m1\u001b[0m\u001b[1;33m\u001b[0m\u001b[0m\n\u001b[0;32m----> 4\u001b[0;31m \u001b[0mhola\u001b[0m \u001b[1;33m+\u001b[0m \u001b[1;36m1\u001b[0m\u001b[1;33m\u001b[0m\u001b[0m\n\u001b[0m",
      "\u001b[0;31mNameError\u001b[0m: name 'hola' is not defined"
     ]
    }
   ],
   "source": [
    "#Python Identifiers\n",
    "\n",
    "Hola = 1\n",
    "hola + 1\n",
    "\n",
    "#podemos ver como no está definida con mínuscula."
   ]
  },
  {
   "cell_type": "code",
   "execution_count": 4,
   "metadata": {
    "collapsed": false
   },
   "outputs": [
    {
     "ename": "IndentationError",
     "evalue": "expected an indented block (<ipython-input-4-da81533ca9a2>, line 4)",
     "output_type": "error",
     "traceback": [
      "\u001b[0;36m  File \u001b[0;32m\"<ipython-input-4-da81533ca9a2>\"\u001b[0;36m, line \u001b[0;32m4\u001b[0m\n\u001b[0;31m    print ('hola')\u001b[0m\n\u001b[0m        ^\u001b[0m\n\u001b[0;31mIndentationError\u001b[0m\u001b[0;31m:\u001b[0m expected an indented block\n"
     ]
    }
   ],
   "source": [
    "#Lines and Indentation\n",
    "\n",
    "if Hola < 5:\n",
    "print ('hola')\n",
    "\n",
    "#podemos ver como la identación se tiene que respetar."
   ]
  },
  {
   "cell_type": "code",
   "execution_count": 7,
   "metadata": {
    "collapsed": true
   },
   "outputs": [],
   "source": [
    "#Multi-Line Statements \n",
    "\n",
    "semana = 'lunes ' + 'martes ' + 'miercoles ' + \\\n",
    "'jueves ' + 'viernes ' + 'sabado ' + 'domingo '\n",
    "\n",
    "#con el uso de \\ se puede seguir escribiendo en la linea abajo sin que se termine la instrucción."
   ]
  },
  {
   "cell_type": "code",
   "execution_count": 13,
   "metadata": {
    "collapsed": false
   },
   "outputs": [],
   "source": [
    "#Quotation in Python\n",
    "\n",
    "palabra = 'manzana'\n",
    "enunciado = \"la manzana está en el árbol\"\n",
    "parrafo = \"\"\" Este párrafo puede tener varias \n",
    "líneas porque está entre tres comillas.\"\"\""
   ]
  },
  {
   "cell_type": "code",
   "execution_count": 15,
   "metadata": {
    "collapsed": false
   },
   "outputs": [],
   "source": [
    "#Comments in Python\n",
    "\n",
    "#los comentarios en Python se hace con el signo de gato"
   ]
  },
  {
   "cell_type": "code",
   "execution_count": 19,
   "metadata": {
    "collapsed": false
   },
   "outputs": [
    {
     "name": "stdout",
     "output_type": "stream",
     "text": [
      "\n",
      "\n",
      "Escribe una entradahola\n"
     ]
    },
    {
     "data": {
      "text/plain": [
       "'hola'"
      ]
     },
     "execution_count": 19,
     "metadata": {},
     "output_type": "execute_result"
    }
   ],
   "source": [
    "input(\"\\n\\nEscribe una entrada\")"
   ]
  },
  {
   "cell_type": "code",
   "execution_count": 21,
   "metadata": {
    "collapsed": true
   },
   "outputs": [],
   "source": [
    "#Multiple Statements on a Single Line\n",
    "\n",
    "a = 4; b= -1; c=1\n",
    "\n",
    "#hacemos varios enunciados en la misma línea."
   ]
  },
  {
   "cell_type": "markdown",
   "metadata": {},
   "source": [
    "# Tarea 2\n",
    "##### 29/Enero\n",
    "\n",
    "Hacer ejemplos de listas y diccionarios\n",
    "\n",
    "** José Alfonso Ramírez Díaz **\n",
    "\n",
    "** if705519 **"
   ]
  },
  {
   "cell_type": "code",
   "execution_count": 39,
   "metadata": {
    "collapsed": false
   },
   "outputs": [
    {
     "data": {
      "text/plain": [
       "['lunes ', 'martes ', 'miercoles ', 'jueves ', 'sabado ', 'domingo ']"
      ]
     },
     "execution_count": 39,
     "metadata": {},
     "output_type": "execute_result"
    }
   ],
   "source": [
    "semana = ['lunes ', 'martes ', 'miercoles ', 'jueves ', 'viernes ', 'sabado ', 'domingo ']\n",
    "semana\n",
    "fin_de_semana = semana[5:7]\n",
    "fin_de_semana\n",
    "dias_laborales = semana[0:4]\n",
    "dias_laborales\n",
    "semana_completa = dias_laborales + fin_de_semana\n",
    "semana_completa"
   ]
  },
  {
   "cell_type": "code",
   "execution_count": 41,
   "metadata": {
    "collapsed": false
   },
   "outputs": [
    {
     "name": "stdout",
     "output_type": "stream",
     "text": [
      "Thats what i like\n"
     ]
    }
   ],
   "source": [
    "grammy_winners = {'cancion del ano':\"Thats what i like\", 'mejor artista nuevo':\"Alessia Cara\", 'mejor video musical':\"DAMN.\"}\n",
    "print(grammy_winners['cancion del ano'])"
   ]
  },
  {
   "cell_type": "code",
   "execution_count": null,
   "metadata": {
    "collapsed": true
   },
   "outputs": [],
   "source": []
  }
 ],
 "metadata": {
  "anaconda-cloud": {},
  "kernelspec": {
   "display_name": "Python [conda root]",
   "language": "python",
   "name": "conda-root-py"
  },
  "language_info": {
   "codemirror_mode": {
    "name": "ipython",
    "version": 3
   },
   "file_extension": ".py",
   "mimetype": "text/x-python",
   "name": "python",
   "nbconvert_exporter": "python",
   "pygments_lexer": "ipython3",
   "version": "3.5.2"
  }
 },
 "nbformat": 4,
 "nbformat_minor": 2
}
